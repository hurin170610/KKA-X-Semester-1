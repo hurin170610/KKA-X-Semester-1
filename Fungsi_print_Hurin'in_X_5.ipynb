{
  "nbformat": 4,
  "nbformat_minor": 0,
  "metadata": {
    "colab": {
      "provenance": [],
      "authorship_tag": "ABX9TyM1w3fb3KTtZsXzX6DvmjJU",
      "include_colab_link": true
    },
    "kernelspec": {
      "name": "python3",
      "display_name": "Python 3"
    },
    "language_info": {
      "name": "python"
    }
  },
  "cells": [
    {
      "cell_type": "markdown",
      "metadata": {
        "id": "view-in-github",
        "colab_type": "text"
      },
      "source": [
        "<a href=\"https://colab.research.google.com/github/hurin170610/KKA-X-Semester-1/blob/main/Fungsi_print_Hurin'in_X_5.ipynb\" target=\"_parent\"><img src=\"https://colab.research.google.com/assets/colab-badge.svg\" alt=\"Open In Colab\"/></a>"
      ]
    },
    {
      "cell_type": "code",
      "source": [
        "Nama:Hurin'in\n",
        "Kelas:X.5\n",
        "No.Absen:15"
      ],
      "metadata": {
        "id": "9mug6mo51j0v"
      },
      "execution_count": null,
      "outputs": []
    },
    {
      "cell_type": "markdown",
      "source": [
        "#1.Menampilkan Teks Bebas"
      ],
      "metadata": {
        "id": "Le6M1hCogvuf"
      }
    },
    {
      "cell_type": "code",
      "source": [
        "print(\"Hello world!\")"
      ],
      "metadata": {
        "colab": {
          "base_uri": "https://localhost:8080/"
        },
        "id": "fEVWXsIphhdK",
        "outputId": "3f807b0e-ad14-4afc-8aa3-e3a2c6f5d9db"
      },
      "execution_count": null,
      "outputs": [
        {
          "output_type": "stream",
          "name": "stdout",
          "text": [
            "Hello world!\n"
          ]
        }
      ]
    },
    {
      "cell_type": "code",
      "source": [
        "print(\"Hurin'in\")"
      ],
      "metadata": {
        "colab": {
          "base_uri": "https://localhost:8080/"
        },
        "id": "zsfogTLeiiVV",
        "outputId": "0732c8c7-541f-4957-be8d-57b7d01ff9e4"
      },
      "execution_count": null,
      "outputs": [
        {
          "output_type": "stream",
          "name": "stdout",
          "text": [
            "Hurin'in\n"
          ]
        }
      ]
    },
    {
      "cell_type": "markdown",
      "source": [
        "#2.Menampilkan Nilai Variabel"
      ],
      "metadata": {
        "id": "XqNa_x8hkF2Z"
      }
    },
    {
      "cell_type": "code",
      "source": [
        "beratbadan = 45\n",
        "\n",
        "print(beratbadan)"
      ],
      "metadata": {
        "colab": {
          "base_uri": "https://localhost:8080/"
        },
        "id": "1sFzD4FNlIMr",
        "outputId": "62ce720a-d866-46c8-d470-1db93142a4db"
      },
      "execution_count": null,
      "outputs": [
        {
          "output_type": "stream",
          "name": "stdout",
          "text": [
            "45\n"
          ]
        }
      ]
    },
    {
      "cell_type": "code",
      "source": [
        "tinggibadan = 150\n",
        "\n",
        "print (tinggibadan)"
      ],
      "metadata": {
        "colab": {
          "base_uri": "https://localhost:8080/"
        },
        "id": "aRTlKOW0mn7F",
        "outputId": "d7cf9228-59f2-48e6-c075-f730ff3dd841"
      },
      "execution_count": null,
      "outputs": [
        {
          "output_type": "stream",
          "name": "stdout",
          "text": [
            "150\n"
          ]
        }
      ]
    },
    {
      "cell_type": "code",
      "source": [
        "Nama = \"Hurin'in\"\n",
        "\n",
        "print(Nama)"
      ],
      "metadata": {
        "colab": {
          "base_uri": "https://localhost:8080/"
        },
        "id": "qk09P6yanNtv",
        "outputId": "00f2672a-ab0d-4e1b-fd77-f99880e9e7be"
      },
      "execution_count": null,
      "outputs": [
        {
          "output_type": "stream",
          "name": "stdout",
          "text": [
            "Hurin'in\n"
          ]
        }
      ]
    },
    {
      "cell_type": "markdown",
      "source": [
        "#3.Menampilkan Teks Bebas dan Nilai Variabel"
      ],
      "metadata": {
        "id": "RCnmU6xiloWu"
      }
    },
    {
      "cell_type": "code",
      "source": [
        "print(\"Halo nama saya\", Nama,\". Berat badan saya\",beratbadan,\"Kg.\")"
      ],
      "metadata": {
        "colab": {
          "base_uri": "https://localhost:8080/"
        },
        "id": "7FN3CyUHl8vn",
        "outputId": "6c6c939c-1e3c-4efc-8197-aa24c4110779"
      },
      "execution_count": null,
      "outputs": [
        {
          "output_type": "stream",
          "name": "stdout",
          "text": [
            "Halo nama saya Hurin'in . Berat badan saya 45 Kg.\n"
          ]
        }
      ]
    },
    {
      "cell_type": "code",
      "source": [
        "print(\"Halo nama saya \"+ Nama+\". Berat badan saya \"+str(beratbadan)+\" Kg.\")"
      ],
      "metadata": {
        "id": "v2OctCHfravp",
        "colab": {
          "base_uri": "https://localhost:8080/"
        },
        "outputId": "aaeedea6-82ed-467f-989f-48ffc5410a3b"
      },
      "execution_count": null,
      "outputs": [
        {
          "output_type": "stream",
          "name": "stdout",
          "text": [
            "Halo nama saya Hurin'in. Berat badan saya 45 Kg.\n"
          ]
        }
      ]
    },
    {
      "cell_type": "code",
      "source": [
        "print(f\"Halo nama saya {Nama}. Berat badan saya {beratbadan} Kg.\")"
      ],
      "metadata": {
        "id": "AOGYENamCDXv",
        "colab": {
          "base_uri": "https://localhost:8080/"
        },
        "outputId": "32d21d9b-b7cf-4006-c1b6-1e42cd41fd1e"
      },
      "execution_count": null,
      "outputs": [
        {
          "output_type": "stream",
          "name": "stdout",
          "text": [
            "Halo nama saya Hurin'in. Berat badan saya 45 Kg.\n"
          ]
        }
      ]
    },
    {
      "cell_type": "markdown",
      "source": [
        "#4.Escape Character"
      ],
      "metadata": {
        "id": "V-74ePqEqZEu"
      }
    },
    {
      "cell_type": "code",
      "source": [
        "print(\"Nama: Hurin'in \")\n",
        "print(\"Kelas:X.5\")\n",
        "print(\"No. Absen: 15\")"
      ],
      "metadata": {
        "colab": {
          "base_uri": "https://localhost:8080/"
        },
        "id": "wWwNFDlRqjWN",
        "outputId": "3580abbd-fde7-40e9-a11c-1520e27ef3e7"
      },
      "execution_count": null,
      "outputs": [
        {
          "output_type": "stream",
          "name": "stdout",
          "text": [
            "Nama: Hurin'in \n",
            "Kelas:X.5\n",
            "No. Absen: 15\n"
          ]
        }
      ]
    },
    {
      "cell_type": "code",
      "source": [
        "print(\"Nama: Hurin'in\\nKelas: X.5\\nNo. Absen: 15\")"
      ],
      "metadata": {
        "id": "QowO6FgPrIlI",
        "colab": {
          "base_uri": "https://localhost:8080/"
        },
        "outputId": "0c92113c-f7fe-42f7-f559-b3c9e41055bf"
      },
      "execution_count": null,
      "outputs": [
        {
          "output_type": "stream",
          "name": "stdout",
          "text": [
            "Nama: Hurin'in\n",
            "Kelas: X.5\n",
            "No. Absen: 15\n"
          ]
        }
      ]
    },
    {
      "cell_type": "code",
      "source": [
        "print(\"\"\"Nama\\t\\t: Hurin'in\n",
        "Kelas\\t\\t: X.5\n",
        "No. Absen\\t: 15\"\"\")"
      ],
      "metadata": {
        "colab": {
          "base_uri": "https://localhost:8080/"
        },
        "id": "lgYdrJ0_Jre7",
        "outputId": "140506e0-2cd4-45da-ebd5-ef531f2d1a5f"
      },
      "execution_count": null,
      "outputs": [
        {
          "output_type": "stream",
          "name": "stdout",
          "text": [
            "Nama\t\t: Hurin'in\n",
            "Kelas\t\t: X.5\n",
            "No. Absen\t: 15\n"
          ]
        }
      ]
    },
    {
      "cell_type": "code",
      "source": [
        "print('Nama saya Ja\\'far Shodiq')"
      ],
      "metadata": {
        "colab": {
          "base_uri": "https://localhost:8080/"
        },
        "id": "y98gGk6uLg9_",
        "outputId": "92158c96-d450-4026-f51d-2919161ae1bd"
      },
      "execution_count": null,
      "outputs": [
        {
          "output_type": "stream",
          "name": "stdout",
          "text": [
            "Nama saya Ja'far Shodiq\n"
          ]
        }
      ]
    },
    {
      "cell_type": "code",
      "source": [
        "print(\"Nama saya Ja'far Shodiq\")"
      ],
      "metadata": {
        "colab": {
          "base_uri": "https://localhost:8080/"
        },
        "id": "oxdoR81dL48I",
        "outputId": "d4f47bb3-8486-4bd6-bd98-502e86a38a53"
      },
      "execution_count": null,
      "outputs": [
        {
          "output_type": "stream",
          "name": "stdout",
          "text": [
            "Nama saya Ja'far Shodiq\n"
          ]
        }
      ]
    },
    {
      "cell_type": "code",
      "source": [
        "print(\"Nama saya Ja\\'far Shodiq\")"
      ],
      "metadata": {
        "colab": {
          "base_uri": "https://localhost:8080/"
        },
        "id": "_yuOKBimMFEt",
        "outputId": "b797c8da-98f4-4a2f-93b3-4a70df441728"
      },
      "execution_count": null,
      "outputs": [
        {
          "output_type": "stream",
          "name": "stdout",
          "text": [
            "Nama saya Ja'far Shodiq\n"
          ]
        }
      ]
    },
    {
      "cell_type": "code",
      "source": [
        "print('Bu Shinta berkata, \"Tolong perhatikan TV dan saya.\"')"
      ],
      "metadata": {
        "colab": {
          "base_uri": "https://localhost:8080/"
        },
        "id": "uOXmpDu-MY7L",
        "outputId": "161036e3-9b27-4953-c963-ffed070857eb"
      },
      "execution_count": null,
      "outputs": [
        {
          "output_type": "stream",
          "name": "stdout",
          "text": [
            "Bu Shinta berkata, \"Tolong perhatikan TV dan saya.\"\n"
          ]
        }
      ]
    },
    {
      "cell_type": "code",
      "source": [
        "print(\"Bu Shinta berkata, \\\"Tolong perhatikan TV dan saya.\\\"\")"
      ],
      "metadata": {
        "colab": {
          "base_uri": "https://localhost:8080/"
        },
        "id": "Mx5M38cANH11",
        "outputId": "2f7c8af0-206f-402d-b0df-ffdecbbeb945"
      },
      "execution_count": null,
      "outputs": [
        {
          "output_type": "stream",
          "name": "stdout",
          "text": [
            "Bu Shinta berkata, \"Tolong perhatikan TV dan saya.\"\n"
          ]
        }
      ]
    },
    {
      "cell_type": "code",
      "source": [
        "print(\"Lokasi file tugas KKA adalah di Local disk C:\\\\KKA\\\\Tugas\")"
      ],
      "metadata": {
        "id": "558QpoWXNrQu",
        "colab": {
          "base_uri": "https://localhost:8080/"
        },
        "outputId": "825ce0db-f36a-4529-f389-499a48843d19"
      },
      "execution_count": null,
      "outputs": [
        {
          "output_type": "stream",
          "name": "stdout",
          "text": [
            "Lokasi file tugas KKA adalah di Local disk C:\\KKA\\Tugas\n"
          ]
        }
      ]
    },
    {
      "cell_type": "code",
      "source": [
        "print ('''Bu Shinta berkata, \"Berikut adalah daftar piket harian kelas X.2\n",
        "yang disimpan di file D:\\\\Man Demak\\\\Jadwal Piket.\".''')\n",
        "\n",
        "print (\"\\nSenin\\tSelasa\\tRabu\")\n",
        "print (\"Jielo\\tHasbi\\tNaufal\")\n",
        "print (\"Azam\\tAida\\tA'inun\")"
      ],
      "metadata": {
        "id": "KKsnfj-mqv3O",
        "colab": {
          "base_uri": "https://localhost:8080/"
        },
        "outputId": "0b09e707-8ce1-4b89-fa34-4b04199b4989"
      },
      "execution_count": null,
      "outputs": [
        {
          "output_type": "stream",
          "name": "stdout",
          "text": [
            "Bu Shinta berkata, \"Berikut adalah daftar piket harian kelas X.2\n",
            "yang disimpan di file D:\\Man Demak\\Jadwal Piket.\".\n",
            "\n",
            "Senin\tSelasa\tRabu\n",
            "Jielo\tHasbi\tNaufal\n",
            "Azam\tAida\tA'inun\n"
          ]
        }
      ]
    },
    {
      "cell_type": "markdown",
      "source": [
        "#Paramater Fungsi print"
      ],
      "metadata": {
        "id": "qsc5Pq2MsdYn"
      }
    },
    {
      "cell_type": "code",
      "source": [
        "nama_siswa_1 = \"Jielo\"\n",
        "nama_siswa_2 = \"Aida\"\n",
        "nama_siswa_3 = \"Dani\"\n",
        "\n",
        "print(nama_siswa_1, end=\"_\")\n",
        "print(nama_siswa_2, end=\"_\")\n",
        "print(nama_siswa_3)"
      ],
      "metadata": {
        "colab": {
          "base_uri": "https://localhost:8080/"
        },
        "id": "xBZy5Dgvsk1d",
        "outputId": "13be3643-abce-4490-a354-106ade604e2f"
      },
      "execution_count": null,
      "outputs": [
        {
          "output_type": "stream",
          "name": "stdout",
          "text": [
            "Jielo_Aida_Dani\n"
          ]
        }
      ]
    },
    {
      "cell_type": "code",
      "source": [
        "nama_siswa_5 = \"Hasbi\"\n",
        "nama_siswa_6 = \"Habibi\"\n",
        "nama_siswa_7 = \"Rendra\"\n",
        "nama_siswa_8 = \"Naufal\"\n",
        "\n",
        "print(nama_siswa_8, nama_siswa_7, nama_siswa_5, nama_siswa_6, sep=\"*\")"
      ],
      "metadata": {
        "colab": {
          "base_uri": "https://localhost:8080/"
        },
        "id": "2aYi-XDVqPFE",
        "outputId": "80dd495a-8927-43a7-e89b-f0d2748b8779"
      },
      "execution_count": null,
      "outputs": [
        {
          "output_type": "stream",
          "name": "stdout",
          "text": [
            "Naufal*Rendra*Hasbi*Habibi\n"
          ]
        }
      ]
    },
    {
      "cell_type": "code",
      "source": [
        "nama_siswa_5 = \"Hasbi\"\n",
        "nama_siswa_6 = \"Habibi\"\n",
        "nama_siswa_7 = \"Rendra\"\n",
        "nama_siswa_8 = \"Naufal\"\n",
        "\n",
        "print(nama_siswa_8, nama_siswa_7, nama_siswa_5, nama_siswa_6, sep=\"-\")"
      ],
      "metadata": {
        "colab": {
          "base_uri": "https://localhost:8080/"
        },
        "id": "VwJrsLwPoDKk",
        "outputId": "6f397ee1-9ca9-4873-8c8b-50864b46357f"
      },
      "execution_count": null,
      "outputs": [
        {
          "output_type": "stream",
          "name": "stdout",
          "text": [
            "Naufal-Rendra-Hasbi-Habibi\n"
          ]
        }
      ]
    }
  ]
}